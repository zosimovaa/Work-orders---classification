{
 "cells": [
  {
   "cell_type": "markdown",
   "metadata": {},
   "source": [
    "# Описание задания\n",
    "\n",
    "### Дано\n",
    "Инженеры сервисной компании отчитываются по выполненным заявкам на ремонт АТМ в виде текстового сообщения. Заказчик работ (мониторинг Банка) обрабатывает отчеты и принимают решение о следующем действии по восстановлению АТМ.\n",
    "\n",
    "На представленном датасете 91% заявок завершились \"успешно\", т.е. АТМ был в работоспособном состоянии. По оставшимся заявкам необходимо было прододожение работ.\n",
    "\n",
    "\n",
    "### Постановка задачи\n",
    "Необходимо разделить отчеты инженеров на 2 класса:\n",
    " - требующие ручной обработки - там, где требуется продолжение работ (ложный выезд, нарушены условия, необходимо продолжение работ и т.д.)\n",
    " - не требующие ручной обработки - заявка выполнена, работоспособность восстановлена. Дальнейшие действия бдут приняты без участия оператора мониторинга.\n",
    " \n",
    "Отчеты инженеров представлены в файле wo.xlsx"
   ]
  },
  {
   "cell_type": "markdown",
   "metadata": {},
   "source": [
    "# Импорты, настройки и чтение данных"
   ]
  },
  {
   "cell_type": "code",
   "execution_count": 1,
   "metadata": {},
   "outputs": [],
   "source": [
    "import os\n",
    "\n",
    "#IMPORTANT: PATH MIGHT BE DIFFERENT. SEE STEP 6\n",
    "#os.environ[\"KERAS_BACKEND\"] = \"plaidml.keras.backend\"\n",
    "#del os.environ[\"KERAS_BACKEND\"]\n",
    "#os.environ[\"RUNFILES_DIR\"] = \"/Users/alex/opt/anaconda3/lib/python3.7/site-packages/plaidml\"\n",
    "#os.environ[\"PLAIDML_NATIVE_PATH\"] = \"/Users/alex/opt/anaconda3/lib/libplaidml.dylib\""
   ]
  },
  {
   "cell_type": "code",
   "execution_count": 2,
   "metadata": {},
   "outputs": [],
   "source": [
    "import re\n",
    "import warnings\n",
    "import numpy as np\n",
    "import pandas as pd\n",
    "import matplotlib.pyplot as plt\n",
    "import seaborn as sns\n",
    "\n",
    "from pymystem3 import Mystem\n",
    "\n",
    "from sklearn.model_selection import train_test_split, StratifiedKFold, StratifiedShuffleSplit\n",
    "from sklearn.metrics import confusion_matrix, roc_auc_score, roc_curve, precision_recall_curve\n",
    "\n",
    "#import tensorflow.keras\n",
    "from tensorflow.keras.models import Sequential\n",
    "from tensorflow.keras.layers import Input, Embedding, LSTM, Dropout, Dense, Activation\n",
    "from tensorflow.keras.optimizers import RMSprop\n",
    "from tensorflow.keras.preprocessing.text import Tokenizer\n",
    "from tensorflow.keras.preprocessing import sequence\n",
    "from tensorflow.keras.utils import to_categorical\n",
    "from tensorflow.keras.callbacks import EarlyStopping\n",
    "from keras import backend as K\n",
    "\n",
    "#Options\n",
    "np.random.seed(7)\n",
    "pd.options.display.max_rows = 999\n",
    "pd.options.display.max_columns = 999\n",
    "warnings.filterwarnings(\"ignore\")\n",
    "%matplotlib inline  \n",
    "random_state = 7"
   ]
  },
  {
   "cell_type": "code",
   "execution_count": 3,
   "metadata": {},
   "outputs": [],
   "source": [
    "REPLACE_NO_SPACE = re.compile(\"[.;:!\\'?,\\\"()\\[\\]]\")\n",
    "\n",
    "with open(\"stopwords.txt\") as f:\n",
    "    stopwords = f.read().splitlines()\n",
    "\n",
    "#Шпаргалка\n",
    "grammems = {\n",
    "    \"A\": \"прилагательное\",\n",
    "    \"ADV\": \"наречие\",\n",
    "    \"ADVPRO\": \"местоименное наречие\",\n",
    "    \"ANUM\": \"числительное-прилагательное\",\n",
    "    \"APRO\": \"местоимение-прилагательное\",\n",
    "    \"COM\": \"часть композита - сложного слова\",\n",
    "    \"CONJ\": \"союз\",\n",
    "    \"INTJ\": \"междометие\",\n",
    "    \"NUM\": \"числительное\",\n",
    "    \"PART\": \"частица\",\n",
    "    \"PR\": \"предлог\",\n",
    "    \"S\": \"существительное\",\n",
    "    \"SPRO\": \"местоимение-существительное\",\n",
    "    \"V\": \"глагол\",\n",
    "}"
   ]
  },
  {
   "cell_type": "code",
   "execution_count": 4,
   "metadata": {},
   "outputs": [
    {
     "data": {
      "text/html": [
       "<div>\n",
       "<style scoped>\n",
       "    .dataframe tbody tr th:only-of-type {\n",
       "        vertical-align: middle;\n",
       "    }\n",
       "\n",
       "    .dataframe tbody tr th {\n",
       "        vertical-align: top;\n",
       "    }\n",
       "\n",
       "    .dataframe thead th {\n",
       "        text-align: right;\n",
       "    }\n",
       "</style>\n",
       "<table border=\"1\" class=\"dataframe\">\n",
       "  <thead>\n",
       "    <tr style=\"text-align: right;\">\n",
       "      <th></th>\n",
       "      <th>desc</th>\n",
       "      <th>comment</th>\n",
       "      <th>type</th>\n",
       "      <th>class</th>\n",
       "    </tr>\n",
       "  </thead>\n",
       "  <tbody>\n",
       "    <tr>\n",
       "      <th>0</th>\n",
       "      <td>CH Fatal;null;Требуется диагностика и ремонт у...</td>\n",
       "      <td>замена контроллера brm. установка прошивки 01....</td>\n",
       "      <td>SLM</td>\n",
       "      <td>1</td>\n",
       "    </tr>\n",
       "    <tr>\n",
       "      <th>1</th>\n",
       "      <td>Сейф не запускается. Доступ свободный.</td>\n",
       "      <td>замена кп. инициализация КП. тесты ок.</td>\n",
       "      <td>SLM</td>\n",
       "      <td>1</td>\n",
       "    </tr>\n",
       "    <tr>\n",
       "      <th>2</th>\n",
       "      <td>SerNo: 13-45170430 # ATM-438340\\nРаботы КОРУС:...</td>\n",
       "      <td>УЗЕЛS осмотр диагностика замена escrow модуля,...</td>\n",
       "      <td>SLM</td>\n",
       "      <td>1</td>\n",
       "    </tr>\n",
       "    <tr>\n",
       "      <th>3</th>\n",
       "      <td>Прошу провести профилактические работы на банк...</td>\n",
       "      <td>произведена замена монитора, тесты ок.</td>\n",
       "      <td>Профилактика</td>\n",
       "      <td>1</td>\n",
       "    </tr>\n",
       "    <tr>\n",
       "      <th>4</th>\n",
       "      <td>Перед проведением профилактики прошу выключать...</td>\n",
       "      <td>Замена СБ. отключение журнального принтера и в...</td>\n",
       "      <td>SLM</td>\n",
       "      <td>1</td>\n",
       "    </tr>\n",
       "  </tbody>\n",
       "</table>\n",
       "</div>"
      ],
      "text/plain": [
       "                                                desc  \\\n",
       "0  CH Fatal;null;Требуется диагностика и ремонт у...   \n",
       "1             Сейф не запускается. Доступ свободный.   \n",
       "2  SerNo: 13-45170430 # ATM-438340\\nРаботы КОРУС:...   \n",
       "3  Прошу провести профилактические работы на банк...   \n",
       "4  Перед проведением профилактики прошу выключать...   \n",
       "\n",
       "                                             comment          type  class  \n",
       "0  замена контроллера brm. установка прошивки 01....           SLM      1  \n",
       "1             замена кп. инициализация КП. тесты ок.           SLM      1  \n",
       "2  УЗЕЛS осмотр диагностика замена escrow модуля,...           SLM      1  \n",
       "3             произведена замена монитора, тесты ок.  Профилактика      1  \n",
       "4  Замена СБ. отключение журнального принтера и в...           SLM      1  "
      ]
     },
     "metadata": {},
     "output_type": "display_data"
    }
   ],
   "source": [
    "data = pd.read_excel(\"wo.xls\", sheet_name=\"Лист1\", usecols=\"B, E, I, K\")\n",
    "data.columns =[\"desc\", \"comment\", \"type\", \"class\"]\n",
    "display(data.head())"
   ]
  },
  {
   "cell_type": "markdown",
   "metadata": {},
   "source": [
    "# Предобработка текста"
   ]
  },
  {
   "cell_type": "code",
   "execution_count": 5,
   "metadata": {},
   "outputs": [
    {
     "name": "stdout",
     "output_type": "stream",
     "text": [
      "['замена контроллер brm установка прошивка перестановка параметризация установка гейт установка картинка тест тестовый утилита открытие закрытие опердня'\n",
      " 'замена кп инициализация кп тест ока'\n",
      " 'УЗЕЛS осмотр диагностика замена escrow модуль тестирование тест ока открытие закрытие ода ока'\n",
      " 'производить замена монитор тест ока'\n",
      " 'замена СБ отключение журнальный принтер включение электронный журнал максимальный объем память']\n"
     ]
    }
   ],
   "source": [
    "speech_parts = {\"A\", \"ADV\", \"S\", \"V\", \"SPRO\", \"ADVPRO\", \"ANUM\", \"APRO\", \"NUM\"}\n",
    "stem = Mystem()\n",
    "\n",
    "def sent_lemm(sentence):\n",
    "    sentence_lemmed = []\n",
    "    result = stem.analyze(sentence)\n",
    "    for word in result:\n",
    "        if \"analysis\" in word:\n",
    "            if len(word[\"analysis\"]):\n",
    "                try:\n",
    "                    word_lmd = word[\"analysis\"][0][\"lex\"]\n",
    "                    if len(speech_parts):\n",
    "                        speech_part = re.split(\"[,=]+\", word[\"analysis\"][0][\"gr\"])\n",
    "                        if speech_part[0] not in speech_parts:\n",
    "                            continue\n",
    "                    sentence_lemmed.append(word_lmd)\n",
    "                except Exception:\n",
    "                    print(\"lemm error: {}\".format(word))\n",
    "            else:\n",
    "                sentence_lemmed.append(word[\"text\"])\n",
    "    return \" \".join(sentence_lemmed)\n",
    "\n",
    "X = data[\"comment\"].apply(lambda x: REPLACE_NO_SPACE.sub(\"\", x))\n",
    "X = np.array([sent_lemm(x) for x in X])\n",
    "print(X[:5])"
   ]
  },
  {
   "cell_type": "markdown",
   "metadata": {},
   "source": [
    "# Датасет"
   ]
  },
  {
   "cell_type": "code",
   "execution_count": 6,
   "metadata": {},
   "outputs": [],
   "source": [
    "y = data[\"class\"].values.reshape(-1,1)\n",
    "X_train, X_test, y_train, y_test = train_test_split(X, y, test_size=0.2, random_state=random_state, shuffle=True)"
   ]
  },
  {
   "cell_type": "code",
   "execution_count": 7,
   "metadata": {},
   "outputs": [],
   "source": [
    "max_words = 1500\n",
    "max_len = 30\n",
    "tok = Tokenizer(num_words=max_words)\n",
    "tok.fit_on_texts(X_train)\n",
    "\n",
    "sequences = tok.texts_to_sequences(X_train)\n",
    "X_train_seq = sequence.pad_sequences(sequences, maxlen=max_len)\n",
    "\n",
    "sequences = tok.texts_to_sequences(X_test)\n",
    "X_test_seq = sequence.pad_sequences(sequences, maxlen=max_len)"
   ]
  },
  {
   "cell_type": "markdown",
   "metadata": {},
   "source": [
    "# Обучение модели"
   ]
  },
  {
   "cell_type": "code",
   "execution_count": 9,
   "metadata": {},
   "outputs": [
    {
     "name": "stdout",
     "output_type": "stream",
     "text": [
      "Model: \"sequential_1\"\n",
      "_________________________________________________________________\n",
      "Layer (type)                 Output Shape              Param #   \n",
      "=================================================================\n",
      "embedding_1 (Embedding)      (None, 30, 64)            96000     \n",
      "_________________________________________________________________\n",
      "lstm_2 (LSTM)                (None, 30, 64)            33024     \n",
      "_________________________________________________________________\n",
      "lstm_3 (LSTM)                (None, 30)                11400     \n",
      "_________________________________________________________________\n",
      "dense_1 (Dense)              (None, 1)                 31        \n",
      "=================================================================\n",
      "Total params: 140,455\n",
      "Trainable params: 140,455\n",
      "Non-trainable params: 0\n",
      "_________________________________________________________________\n",
      "None\n",
      "Epoch 1/30\n",
      "301/301 [==============================] - 5s 17ms/step - loss: 0.2814 - auc: 0.6564 - val_loss: 0.1625 - val_auc: 0.9586\n",
      "Epoch 2/30\n",
      "301/301 [==============================] - 5s 16ms/step - loss: 0.1163 - auc: 0.9643 - val_loss: 0.1760 - val_auc: 0.9460\n",
      "Epoch 3/30\n",
      "301/301 [==============================] - 5s 16ms/step - loss: 0.0710 - auc: 0.9851 - val_loss: 0.2066 - val_auc: 0.9359\n",
      "Epoch 4/30\n",
      "301/301 [==============================] - 5s 16ms/step - loss: 0.0489 - auc: 0.9894 - val_loss: 0.2358 - val_auc: 0.9234\n",
      "Epoch 5/30\n",
      "301/301 [==============================] - 5s 16ms/step - loss: 0.0364 - auc: 0.9943 - val_loss: 0.2677 - val_auc: 0.8700\n",
      "Epoch 6/30\n",
      "301/301 [==============================] - 5s 16ms/step - loss: 0.0260 - auc: 0.9955 - val_loss: 0.2906 - val_auc: 0.8543\n"
     ]
    }
   ],
   "source": [
    "embedding_vecor_length = 64\n",
    "\n",
    "es = EarlyStopping(monitor='val_auc', mode='max', patience=5)\n",
    "\n",
    "# create the model\n",
    "model = Sequential()\n",
    "model.add(Embedding(max_words, embedding_vecor_length, input_length=max_len))\n",
    "model.add(LSTM(64, dropout=0, return_sequences=True))\n",
    "model.add(LSTM(30, dropout=0.25))\n",
    "model.add(Dense(1, activation='sigmoid'))\n",
    "model.compile(loss='binary_crossentropy', optimizer='adam', metrics=['AUC'])\n",
    "print(model.summary())\n",
    "history = model.fit(X_train_seq, y_train, epochs=30, batch_size=8, validation_split=0.2, callbacks=[es])"
   ]
  },
  {
   "cell_type": "markdown",
   "metadata": {},
   "source": [
    "# Проверка модели"
   ]
  },
  {
   "cell_type": "code",
   "execution_count": 10,
   "metadata": {},
   "outputs": [
    {
     "data": {
      "image/png": "[encoded data removed]",
      "text/plain": [
       "<Figure size 504x504 with 1 Axes>"
      ]
     },
     "metadata": {
      "needs_background": "light"
     },
     "output_type": "display_data"
    }
   ],
   "source": [
    "y_pred = model.predict(X_test_seq)\n",
    "\n",
    "fpr, tpr, _ = roc_curve(y_test, y_pred)\n",
    "rocauc_score = \"ROC AUC score: {0:.2}\".format(roc_auc_score(y_test, y_pred))\n",
    "\n",
    "plt.figure(figsize=(7,7))\n",
    "plt.plot(fpr, tpr, 'b-')\n",
    "plt.plot([0, 1], [0, 1],'r--')\n",
    "plt.xlabel(\"False Positive Rate\")\n",
    "plt.ylabel(\"True Positive Rate\")\n",
    "plt.title(\"ROC AUC plot\")\n",
    "plt.xlim([0, 1])\n",
    "plt.ylim([0, 1])\n",
    "plt.annotate(rocauc_score, xy=(0.65, 0.11), xycoords=\"figure fraction\", fontsize=12)\n",
    "\n",
    "plt.show()                                 "
   ]
  },
  {
   "cell_type": "code",
   "execution_count": 11,
   "metadata": {},
   "outputs": [
    {
     "data": {
      "image/png": "[encoded data removed]",
      "text/plain": [
       "<Figure size 576x288 with 2 Axes>"
      ]
     },
     "metadata": {
      "needs_background": "light"
     },
     "output_type": "display_data"
    }
   ],
   "source": [
    "fpr_allowed = 0.08  #(for example)\n",
    "idx = np.max(np.where(fpr<fpr_allowed))\n",
    "\n",
    "cm = confusion_matrix(y_test, y_pred>_[idx])\n",
    "fig, ax = plt.subplots(figsize=(8,4))\n",
    "ax = sns.heatmap(cm, linewidths=.5, cmap=\"YlGnBu\", ax=ax, annot=True, fmt='d', annot_kws={\"fontsize\":12})\n",
    "ax = ax.set_title(\"Confusion matrix\")"
   ]
  },
  {
   "cell_type": "markdown",
   "metadata": {},
   "source": [
    "# Заключение"
   ]
  },
  {
   "cell_type": "markdown",
   "metadata": {},
   "source": [
    "Классификатор позволяет «понять» отчеты, где работа завершена успешно, и передать их на автоматическую обработку. Настройку порога срабатывания можно использовать для выбора приемлемого уровня ошибок при максимальном уровне автоматизации.\n",
    "\n",
    "При пороге ошибок около 1% на автоматическую обработку можно передать около 70% отчетов."
   ]
  }
 ],
 "metadata": {
  "kernelspec": {
   "display_name": "Python 3",
   "language": "python",
   "name": "python3"
  },
  "language_info": {
   "codemirror_mode": {
    "name": "ipython",
    "version": 3
   },
   "file_extension": ".py",
   "mimetype": "text/x-python",
   "name": "python",
   "nbconvert_exporter": "python",
   "pygments_lexer": "ipython3",
   "version": "3.8.5"
  }
 },
 "nbformat": 4,
 "nbformat_minor": 4
}
